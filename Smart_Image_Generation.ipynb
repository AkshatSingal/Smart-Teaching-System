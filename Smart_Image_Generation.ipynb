{
  "nbformat": 4,
  "nbformat_minor": 0,
  "metadata": {
    "colab": {
      "provenance": []
    },
    "kernelspec": {
      "name": "python3",
      "display_name": "Python 3"
    },
    "language_info": {
      "name": "python"
    }
  },
  "cells": [
    {
      "cell_type": "markdown",
      "source": [
        "### **1. Install the Replicate Library**\n"
      ],
      "metadata": {
        "id": "gmyd7dQw8E0w"
      }
    },
    {
      "cell_type": "code",
      "source": [
        "                                                                                                                                                                                                                                                                                                                                                                                  !pip install replicate"
      ],
      "metadata": {
        "id": "K3uGMIe96IZO",
        "colab": {
          "base_uri": "https://localhost:8080/"
        },
        "outputId": "4a43edf8-7795-4689-971d-2009a410c70c"
      },
      "execution_count": null,
      "outputs": [
        {
          "output_type": "stream",
          "name": "stdout",
          "text": [
            "Requirement already satisfied: replicate in /usr/local/lib/python3.11/dist-packages (1.0.6)\n",
            "Requirement already satisfied: httpx<1,>=0.21.0 in /usr/local/lib/python3.11/dist-packages (from replicate) (0.28.1)\n",
            "Requirement already satisfied: packaging in /usr/local/lib/python3.11/dist-packages (from replicate) (24.2)\n",
            "Requirement already satisfied: pydantic>1.10.7 in /usr/local/lib/python3.11/dist-packages (from replicate) (2.11.4)\n",
            "Requirement already satisfied: typing_extensions>=4.5.0 in /usr/local/lib/python3.11/dist-packages (from replicate) (4.13.2)\n",
            "Requirement already satisfied: anyio in /usr/local/lib/python3.11/dist-packages (from httpx<1,>=0.21.0->replicate) (4.9.0)\n",
            "Requirement already satisfied: certifi in /usr/local/lib/python3.11/dist-packages (from httpx<1,>=0.21.0->replicate) (2025.4.26)\n",
            "Requirement already satisfied: httpcore==1.* in /usr/local/lib/python3.11/dist-packages (from httpx<1,>=0.21.0->replicate) (1.0.9)\n",
            "Requirement already satisfied: idna in /usr/local/lib/python3.11/dist-packages (from httpx<1,>=0.21.0->replicate) (3.10)\n",
            "Requirement already satisfied: h11>=0.16 in /usr/local/lib/python3.11/dist-packages (from httpcore==1.*->httpx<1,>=0.21.0->replicate) (0.16.0)\n",
            "Requirement already satisfied: annotated-types>=0.6.0 in /usr/local/lib/python3.11/dist-packages (from pydantic>1.10.7->replicate) (0.7.0)\n",
            "Requirement already satisfied: pydantic-core==2.33.2 in /usr/local/lib/python3.11/dist-packages (from pydantic>1.10.7->replicate) (2.33.2)\n",
            "Requirement already satisfied: typing-inspection>=0.4.0 in /usr/local/lib/python3.11/dist-packages (from pydantic>1.10.7->replicate) (0.4.0)\n",
            "Requirement already satisfied: sniffio>=1.1 in /usr/local/lib/python3.11/dist-packages (from anyio->httpx<1,>=0.21.0->replicate) (1.3.1)\n"
          ]
        }
      ]
    },
    {
      "cell_type": "markdown",
      "source": [
        "### **2. Setup the Environment variable**"
      ],
      "metadata": {
        "id": "dejhpg9x8cMi"
      }
    },
    {
      "cell_type": "code",
      "source": [
        "import os\n",
        "s = input()\n",
        "os.environ['REPLICATE_API_TOKEN'] = s"
      ],
      "metadata": {
        "id": "ATCg2Sof808F",
        "colab": {
          "base_uri": "https://localhost:8080/"
        },
        "outputId": "8759f0fb-346f-4968-a5e5-8a90517a217c"
      },
      "execution_count": null,
      "outputs": [
        {
          "name": "stdout",
          "output_type": "stream",
          "text": [
            "r8_XRXjqWbGxgQFvNVMlO0l2FwUPlz9zXf4gF4oc\n"
          ]
        }
      ]
    },
    {
      "cell_type": "code",
      "source": [
        "print(os.environ['REPLICATE_API_TOKEN'])"
      ],
      "metadata": {
        "id": "t7101hkM_AJu",
        "colab": {
          "base_uri": "https://localhost:8080/"
        },
        "outputId": "822395c9-ef98-45b8-9ca9-ba19c9306879"
      },
      "execution_count": null,
      "outputs": [
        {
          "output_type": "stream",
          "name": "stdout",
          "text": [
            "r8_XRXjqWbGxgQFvNVMlO0l2FwUPlz9zXf4gF4oc\n"
          ]
        }
      ]
    },
    {
      "cell_type": "code",
      "source": [
        "# @title Display WhiteBoard Code\n",
        "js_code = '''\n",
        "const canvasSize = 500; // Adjust the pixels shape of the displayed whiteboard\n",
        "const scalingFactor = 200; // Adjust the scaling factor (bigger for smaller pixels)\n",
        "\n",
        "// Display canvasSize value\n",
        "const outputText = document.createTextNode('Canvas size is: ' + canvasSize + 'x' + canvasSize + ' pixels.');\n",
        "document.querySelector(\"#output-area\").appendChild(outputText);\n",
        "\n",
        "const cellSize = Math.floor(scalingFactor / canvasSize);\n",
        "const container = document.createElement('div');\n",
        "container.style.display = 'flex';\n",
        "container.style.alignItems = 'center';\n",
        "container.style.flexDirection = 'row';\n",
        "container.style.marginLeft = '-5px'; // Ignore display frame\n",
        "\n",
        "//Table styling\n",
        "const table = document.createElement('table');\n",
        "table.style.borderCollapse = 'collapse';\n",
        "table.style.backgroundColor = 'white';\n",
        "table.style.cursor = 'crosshair';\n",
        "table.style.border = `5px solid lightgray`;\n",
        "\n",
        "let isDrawing = false; //used to track the drawing state\n",
        "let selectedPixel = null;\n",
        "\n",
        "function handleMouseClick(event) {\n",
        "  const cell = event.target;\n",
        "  if (cell.tagName === 'TD' && event.button === 0) {\n",
        "    cell.style.backgroundColor = 'black';\n",
        "  } else if (cell.tagName === 'TD' && event.button === 2) {\n",
        "    const currentColor = cell.style.backgroundColor.toLowerCase();\n",
        "    if (currentColor === 'black') {\n",
        "      cell.style.backgroundColor = 'white';\n",
        "    }\n",
        "  }\n",
        "}\n",
        "\n",
        "function handleMouseMove(event) {\n",
        "  const cell = event.target;\n",
        "  if (cell.tagName === 'TD') {\n",
        "    if (selectedPixel) {\n",
        "      selectedPixel.style.outline = '';\n",
        "    }\n",
        "    selectedPixel = cell;\n",
        "    selectedPixel.style.outline = '4px solid gray';\n",
        "\n",
        "    if (isDrawing && (event.buttons === 1 || event.buttons === 2)) {\n",
        "      const color = event.buttons === 1 ? 'black' : 'white';\n",
        "      cell.style.backgroundColor = color;\n",
        "    }\n",
        "  }\n",
        "}\n",
        "\n",
        "function handleMouseDown(event) {\n",
        "  event.preventDefault(); // Prevent content selection\n",
        "  if (event.button === 0 || event.button === 2) {\n",
        "    isDrawing = true;\n",
        "  }\n",
        "}\n",
        "\n",
        "function handleMouseUp() {\n",
        "  isDrawing = false;\n",
        "}\n",
        "\n",
        "function saveDrawing() {\n",
        "  const canvas = document.createElement('canvas');\n",
        "  canvas.width = canvasSize;\n",
        "  canvas.height = canvasSize;\n",
        "  const ctx = canvas.getContext('2d');\n",
        "  const cells = document.querySelectorAll('td');\n",
        "\n",
        "  cells.forEach((cell, index) => {\n",
        "\n",
        "    const row = Math.floor(index / canvasSize);\n",
        "    const col = index % canvasSize;\n",
        "    const color = cell.style.backgroundColor.toLowerCase();\n",
        "\n",
        "    // Convert white to black and black to white\n",
        "    const newColor = color === 'black' ? 'white' : 'black';\n",
        "\n",
        "    ctx.fillStyle = newColor;\n",
        "    ctx.fillRect(col, row, 1, 1);\n",
        "  });\n",
        "\n",
        "//To download the image\n",
        "  const downloadLink = document.createElement('a');\n",
        "  downloadLink.href = canvas.toDataURL('image/png');\n",
        "  //save as drawing.png\n",
        "  downloadLink.download = 'drawing.png';\n",
        "  downloadLink.click();\n",
        "}\n",
        "\n",
        "//To clear the whiteboard\n",
        "function deleteDrawing() {\n",
        "  const cells = document.querySelectorAll('td');\n",
        "  cells.forEach(cell => {\n",
        "    cell.style.backgroundColor = 'white';\n",
        "  });\n",
        "}\n",
        "\n",
        "function handleContextMenu(event) {\n",
        "  event.preventDefault();\n",
        "}\n",
        "\n",
        "for (let row = 0; row < canvasSize; row++) {\n",
        "  const tr = document.createElement('tr');\n",
        "  for (let col = 0; col < canvasSize; col++) {\n",
        "    const td = document.createElement('td');\n",
        "\n",
        "    td.style.width = cellSize + 'px';\n",
        "    td.style.height = cellSize + 'px';\n",
        "    td.style.backgroundColor = 'white';\n",
        "\n",
        "    td.addEventListener('mousedown', handleMouseClick);\n",
        "    td.addEventListener('mouseenter', handleMouseMove);\n",
        "    td.addEventListener('mouseleave', () => {\n",
        "      td.style.outline = '';\n",
        "    });\n",
        "\n",
        "    tr.appendChild(td);\n",
        "  }\n",
        "  table.appendChild(tr);\n",
        "}\n",
        "\n",
        "container.appendChild(table);\n",
        "\n",
        "const buttonsContainer = document.createElement('div');\n",
        "buttonsContainer.style.display = 'flex';\n",
        "buttonsContainer.style.flexDirection = 'column';\n",
        "buttonsContainer.style.marginLeft = '20px';\n",
        "\n",
        "//Creation of Save Drawing Button element\n",
        "const saveButton = document.createElement('button');\n",
        "saveButton.textContent = 'Save Drawing';\n",
        "saveButton.style.marginBottom = '10px';\n",
        "saveButton.style.padding = '8px 16px';\n",
        "saveButton.addEventListener('click', saveDrawing);\n",
        "buttonsContainer.appendChild(saveButton);\n",
        "\n",
        "//Creation of Delete Drawing button element\n",
        "const deleteButton = document.createElement('button');\n",
        "deleteButton.textContent = 'Delete Drawing';\n",
        "deleteButton.style.padding = '8px 16px';\n",
        "deleteButton.addEventListener('click', deleteDrawing);\n",
        "buttonsContainer.appendChild(deleteButton);\n",
        "\n",
        "container.appendChild(buttonsContainer);\n",
        "document.body.appendChild(container);\n",
        "\n",
        "const style = document.createElement('style');\n",
        "style.textContent = `\n",
        "  td {\n",
        "    border: none;\n",
        "    outline: none;\n",
        "  }\n",
        "`;\n",
        "document.head.appendChild(style);\n",
        "\n",
        "table.addEventListener('mousemove', handleMouseMove);\n",
        "table.addEventListener('mousedown', handleMouseDown);\n",
        "table.addEventListener('mouseup', handleMouseUp);\n",
        "table.addEventListener('contextmenu', handleContextMenu);\n",
        "\n",
        "'''\n",
        "\n",
        "import IPython\n",
        "WhiteBoard = IPython.display.Javascript(js_code)"
      ],
      "metadata": {
        "id": "EetOAhADUoE3"
      },
      "execution_count": null,
      "outputs": []
    },
    {
      "cell_type": "code",
      "source": [
        "display(WhiteBoard)"
      ],
      "metadata": {
        "colab": {
          "base_uri": "https://localhost:8080/",
          "height": 1000
        },
        "id": "avZdQapnba7s",
        "outputId": "9c54e07f-bd8a-4236-8a19-efa81da12406"
      },
      "execution_count": null,
      "outputs": [
        {
          "output_type": "display_data",
          "data": {
            "text/plain": [
              "<IPython.core.display.Javascript object>"
            ],
            "application/javascript": [
              "\n",
              "const canvasSize = 500; // Adjust the pixels shape of the displayed whiteboard\n",
              "const scalingFactor = 200; // Adjust the scaling factor (bigger for smaller pixels)\n",
              "\n",
              "// Display canvasSize value\n",
              "const outputText = document.createTextNode('Canvas size is: ' + canvasSize + 'x' + canvasSize + ' pixels.');\n",
              "document.querySelector(\"#output-area\").appendChild(outputText);\n",
              "\n",
              "const cellSize = Math.floor(scalingFactor / canvasSize);\n",
              "const container = document.createElement('div');\n",
              "container.style.display = 'flex';\n",
              "container.style.alignItems = 'center';\n",
              "container.style.flexDirection = 'row';\n",
              "container.style.marginLeft = '-5px'; // Ignore display frame\n",
              "\n",
              "//Table styling\n",
              "const table = document.createElement('table');\n",
              "table.style.borderCollapse = 'collapse';\n",
              "table.style.backgroundColor = 'white';\n",
              "table.style.cursor = 'crosshair';\n",
              "table.style.border = `5px solid lightgray`;\n",
              "\n",
              "let isDrawing = false; //used to track the drawing state\n",
              "let selectedPixel = null;\n",
              "\n",
              "function handleMouseClick(event) {\n",
              "  const cell = event.target;\n",
              "  if (cell.tagName === 'TD' && event.button === 0) {\n",
              "    cell.style.backgroundColor = 'black';\n",
              "  } else if (cell.tagName === 'TD' && event.button === 2) {\n",
              "    const currentColor = cell.style.backgroundColor.toLowerCase();\n",
              "    if (currentColor === 'black') {\n",
              "      cell.style.backgroundColor = 'white';\n",
              "    }\n",
              "  }\n",
              "}\n",
              "\n",
              "function handleMouseMove(event) {\n",
              "  const cell = event.target;\n",
              "  if (cell.tagName === 'TD') {\n",
              "    if (selectedPixel) {\n",
              "      selectedPixel.style.outline = '';\n",
              "    }\n",
              "    selectedPixel = cell;\n",
              "    selectedPixel.style.outline = '4px solid gray';\n",
              "\n",
              "    if (isDrawing && (event.buttons === 1 || event.buttons === 2)) {\n",
              "      const color = event.buttons === 1 ? 'black' : 'white';\n",
              "      cell.style.backgroundColor = color;\n",
              "    }\n",
              "  }\n",
              "}\n",
              "\n",
              "function handleMouseDown(event) {\n",
              "  event.preventDefault(); // Prevent content selection\n",
              "  if (event.button === 0 || event.button === 2) {\n",
              "    isDrawing = true;\n",
              "  }\n",
              "}\n",
              "\n",
              "function handleMouseUp() {\n",
              "  isDrawing = false;\n",
              "}\n",
              "\n",
              "function saveDrawing() {\n",
              "  const canvas = document.createElement('canvas');\n",
              "  canvas.width = canvasSize;\n",
              "  canvas.height = canvasSize;\n",
              "  const ctx = canvas.getContext('2d');\n",
              "  const cells = document.querySelectorAll('td');\n",
              "\n",
              "  cells.forEach((cell, index) => {\n",
              "\n",
              "    const row = Math.floor(index / canvasSize);\n",
              "    const col = index % canvasSize;\n",
              "    const color = cell.style.backgroundColor.toLowerCase();\n",
              "\n",
              "    // Convert white to black and black to white\n",
              "    const newColor = color === 'black' ? 'white' : 'black';\n",
              "\n",
              "    ctx.fillStyle = newColor;\n",
              "    ctx.fillRect(col, row, 1, 1);\n",
              "  });\n",
              "\n",
              "//To download the image\n",
              "  const downloadLink = document.createElement('a');\n",
              "  downloadLink.href = canvas.toDataURL('image/png');\n",
              "  //save as drawing.png\n",
              "  downloadLink.download = 'drawing.png';\n",
              "  downloadLink.click();\n",
              "}\n",
              "\n",
              "//To clear the whiteboard\n",
              "function deleteDrawing() {\n",
              "  const cells = document.querySelectorAll('td');\n",
              "  cells.forEach(cell => {\n",
              "    cell.style.backgroundColor = 'white';\n",
              "  });\n",
              "}\n",
              "\n",
              "function handleContextMenu(event) {\n",
              "  event.preventDefault();\n",
              "}\n",
              "\n",
              "for (let row = 0; row < canvasSize; row++) {\n",
              "  const tr = document.createElement('tr');\n",
              "  for (let col = 0; col < canvasSize; col++) {\n",
              "    const td = document.createElement('td');\n",
              "\n",
              "    td.style.width = cellSize + 'px';\n",
              "    td.style.height = cellSize + 'px';\n",
              "    td.style.backgroundColor = 'white';\n",
              "\n",
              "    td.addEventListener('mousedown', handleMouseClick);\n",
              "    td.addEventListener('mouseenter', handleMouseMove);\n",
              "    td.addEventListener('mouseleave', () => {\n",
              "      td.style.outline = '';\n",
              "    });\n",
              "\n",
              "    tr.appendChild(td);\n",
              "  }\n",
              "  table.appendChild(tr);\n",
              "}\n",
              "\n",
              "container.appendChild(table);\n",
              "\n",
              "const buttonsContainer = document.createElement('div');\n",
              "buttonsContainer.style.display = 'flex';\n",
              "buttonsContainer.style.flexDirection = 'column';\n",
              "buttonsContainer.style.marginLeft = '20px';\n",
              "\n",
              "//Creation of Save Drawing Button element\n",
              "const saveButton = document.createElement('button');\n",
              "saveButton.textContent = 'Save Drawing';\n",
              "saveButton.style.marginBottom = '10px';\n",
              "saveButton.style.padding = '8px 16px';\n",
              "saveButton.addEventListener('click', saveDrawing);\n",
              "buttonsContainer.appendChild(saveButton);\n",
              "\n",
              "//Creation of Delete Drawing button element\n",
              "const deleteButton = document.createElement('button');\n",
              "deleteButton.textContent = 'Delete Drawing';\n",
              "deleteButton.style.padding = '8px 16px';\n",
              "deleteButton.addEventListener('click', deleteDrawing);\n",
              "buttonsContainer.appendChild(deleteButton);\n",
              "\n",
              "container.appendChild(buttonsContainer);\n",
              "document.body.appendChild(container);\n",
              "\n",
              "const style = document.createElement('style');\n",
              "style.textContent = `\n",
              "  td {\n",
              "    border: none;\n",
              "    outline: none;\n",
              "  }\n",
              "`;\n",
              "document.head.appendChild(style);\n",
              "\n",
              "table.addEventListener('mousemove', handleMouseMove);\n",
              "table.addEventListener('mousedown', handleMouseDown);\n",
              "table.addEventListener('mouseup', handleMouseUp);\n",
              "table.addEventListener('contextmenu', handleContextMenu);\n",
              "\n"
            ]
          },
          "metadata": {}
        }
      ]
    },
    {
      "cell_type": "code",
      "source": [
        "import base64\n",
        "import replicate\n",
        "\n",
        "# Step 1: Read the image file\n",
        "with open(\"drawing (1).png\", \"rb\") as image_file:\n",
        "    encoded_string = base64.b64encode(image_file.read()).decode('utf-8')\n",
        "\n",
        "# Step 2: Construct a data URI\n",
        "data_uri = f\"data:image/png;base64,{encoded_string}\""
      ],
      "metadata": {
        "id": "HKIPV1hBB2-f"
      },
      "execution_count": null,
      "outputs": []
    },
    {
      "cell_type": "code",
      "source": [
        "import replicate\n",
        "t = input()\n",
        "\n",
        "input = {\n",
        "    \"seed\": 20,\n",
        "    \"image\": data_uri,\n",
        "    \"prompt\": t,\n",
        "    \"structure\": \"scribble\",\n",
        "    \"image_resolution\": 512\n",
        "}\n",
        "\n",
        "output = replicate.run(\n",
        "    \"zsxkib/step1x-edit:12b5a5a61e3419f792eb56cfc16eed046252740ebf5d470228f9b4cf2c861610\",\n",
        "    input=input\n",
        ")\n",
        "print(output)"
      ],
      "metadata": {
        "id": "j9-bHXah-1nx",
        "colab": {
          "base_uri": "https://localhost:8080/"
        },
        "outputId": "ff54bd17-110d-43da-b229-aa8dc084b369"
      },
      "execution_count": null,
      "outputs": [
        {
          "output_type": "stream",
          "name": "stdout",
          "text": [
            "a red gun\n",
            "https://replicate.delivery/yhqm/Ea6SB9GBGwJWLJSey9YkJY1Q6TugKTNLEe106E3YMnKuwSqUA/step1x_edit_output.webp\n"
          ]
        }
      ]
    },
    {
      "cell_type": "code",
      "source": [],
      "metadata": {
        "id": "zRLQ_oiOyHMQ"
      },
      "execution_count": null,
      "outputs": []
    },
    {
      "cell_type": "markdown",
      "source": [],
      "metadata": {
        "id": "zzG7J2dC8Cxa"
      }
    }
  ]
}